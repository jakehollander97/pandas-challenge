{
 "cells": [
  {
   "cell_type": "markdown",
   "metadata": {},
   "source": [
    "# Heroes of Pymoli"
   ]
  },
  {
   "cell_type": "code",
   "execution_count": 2,
   "metadata": {},
   "outputs": [],
   "source": [
    "# Dependencies and Setup\n",
    "import pandas as pd\n",
    "\n",
    "# File to Load\n",
    "file_to_load = \"purchase_data.csv\"\n",
    "\n",
    "# Read Purchasing File and store into Pandas data frame\n",
    "purchase_data = pd.read_csv(file_to_load)"
   ]
  },
  {
   "cell_type": "markdown",
   "metadata": {},
   "source": [
    "#### Overview of Initial DataFrame"
   ]
  },
  {
   "cell_type": "code",
   "execution_count": 3,
   "metadata": {},
   "outputs": [
    {
     "data": {
      "text/html": [
       "<div>\n",
       "<style scoped>\n",
       "    .dataframe tbody tr th:only-of-type {\n",
       "        vertical-align: middle;\n",
       "    }\n",
       "\n",
       "    .dataframe tbody tr th {\n",
       "        vertical-align: top;\n",
       "    }\n",
       "\n",
       "    .dataframe thead th {\n",
       "        text-align: right;\n",
       "    }\n",
       "</style>\n",
       "<table border=\"1\" class=\"dataframe\">\n",
       "  <thead>\n",
       "    <tr style=\"text-align: right;\">\n",
       "      <th></th>\n",
       "      <th>Purchase ID</th>\n",
       "      <th>SN</th>\n",
       "      <th>Age</th>\n",
       "      <th>Gender</th>\n",
       "      <th>Item ID</th>\n",
       "      <th>Item Name</th>\n",
       "      <th>Price</th>\n",
       "    </tr>\n",
       "  </thead>\n",
       "  <tbody>\n",
       "    <tr>\n",
       "      <th>0</th>\n",
       "      <td>0</td>\n",
       "      <td>Lisim78</td>\n",
       "      <td>20</td>\n",
       "      <td>Male</td>\n",
       "      <td>108</td>\n",
       "      <td>Extraction, Quickblade Of Trembling Hands</td>\n",
       "      <td>3.53</td>\n",
       "    </tr>\n",
       "    <tr>\n",
       "      <th>1</th>\n",
       "      <td>1</td>\n",
       "      <td>Lisovynya38</td>\n",
       "      <td>40</td>\n",
       "      <td>Male</td>\n",
       "      <td>143</td>\n",
       "      <td>Frenzied Scimitar</td>\n",
       "      <td>1.56</td>\n",
       "    </tr>\n",
       "    <tr>\n",
       "      <th>2</th>\n",
       "      <td>2</td>\n",
       "      <td>Ithergue48</td>\n",
       "      <td>24</td>\n",
       "      <td>Male</td>\n",
       "      <td>92</td>\n",
       "      <td>Final Critic</td>\n",
       "      <td>4.88</td>\n",
       "    </tr>\n",
       "    <tr>\n",
       "      <th>3</th>\n",
       "      <td>3</td>\n",
       "      <td>Chamassasya86</td>\n",
       "      <td>24</td>\n",
       "      <td>Male</td>\n",
       "      <td>100</td>\n",
       "      <td>Blindscythe</td>\n",
       "      <td>3.27</td>\n",
       "    </tr>\n",
       "    <tr>\n",
       "      <th>4</th>\n",
       "      <td>4</td>\n",
       "      <td>Iskosia90</td>\n",
       "      <td>23</td>\n",
       "      <td>Male</td>\n",
       "      <td>131</td>\n",
       "      <td>Fury</td>\n",
       "      <td>1.44</td>\n",
       "    </tr>\n",
       "  </tbody>\n",
       "</table>\n",
       "</div>"
      ],
      "text/plain": [
       "   Purchase ID             SN  Age Gender  Item ID  \\\n",
       "0            0        Lisim78   20   Male      108   \n",
       "1            1    Lisovynya38   40   Male      143   \n",
       "2            2     Ithergue48   24   Male       92   \n",
       "3            3  Chamassasya86   24   Male      100   \n",
       "4            4      Iskosia90   23   Male      131   \n",
       "\n",
       "                                   Item Name  Price  \n",
       "0  Extraction, Quickblade Of Trembling Hands   3.53  \n",
       "1                          Frenzied Scimitar   1.56  \n",
       "2                               Final Critic   4.88  \n",
       "3                                Blindscythe   3.27  \n",
       "4                                       Fury   1.44  "
      ]
     },
     "execution_count": 3,
     "metadata": {},
     "output_type": "execute_result"
    }
   ],
   "source": [
    "purchase_data.head()"
   ]
  },
  {
   "cell_type": "markdown",
   "metadata": {},
   "source": [
    "## Player Count"
   ]
  },
  {
   "cell_type": "code",
   "execution_count": 4,
   "metadata": {
    "scrolled": true
   },
   "outputs": [
    {
     "data": {
      "text/html": [
       "<div>\n",
       "<style scoped>\n",
       "    .dataframe tbody tr th:only-of-type {\n",
       "        vertical-align: middle;\n",
       "    }\n",
       "\n",
       "    .dataframe tbody tr th {\n",
       "        vertical-align: top;\n",
       "    }\n",
       "\n",
       "    .dataframe thead th {\n",
       "        text-align: right;\n",
       "    }\n",
       "</style>\n",
       "<table border=\"1\" class=\"dataframe\">\n",
       "  <thead>\n",
       "    <tr style=\"text-align: right;\">\n",
       "      <th></th>\n",
       "      <th>Total Players</th>\n",
       "    </tr>\n",
       "  </thead>\n",
       "  <tbody>\n",
       "    <tr>\n",
       "      <th>0</th>\n",
       "      <td>576</td>\n",
       "    </tr>\n",
       "  </tbody>\n",
       "</table>\n",
       "</div>"
      ],
      "text/plain": [
       "   Total Players\n",
       "0            576"
      ]
     },
     "execution_count": 4,
     "metadata": {},
     "output_type": "execute_result"
    }
   ],
   "source": [
    "total_players = purchase_data['SN'].nunique() #takes a count of all unique players\n",
    "total_players_dict = [{\"Total Players\": total_players}] #creates a dictionary\n",
    "total_players_df = pd.DataFrame(total_players_dict) #creates a dataframe to display results\n",
    "\n",
    "total_players_df"
   ]
  },
  {
   "cell_type": "markdown",
   "metadata": {},
   "source": [
    "## Purchasing Analysis (Total)"
   ]
  },
  {
   "cell_type": "code",
   "execution_count": 29,
   "metadata": {},
   "outputs": [
    {
     "data": {
      "text/html": [
       "<style  type=\"text/css\" >\n",
       "</style>  \n",
       "<table id=\"T_ad7b791a_5efd_11ea_8426_a683e7299cdc\" > \n",
       "<thead>    <tr> \n",
       "        <th class=\"blank level0\" ></th> \n",
       "        <th class=\"col_heading level0 col0\" >Average Price</th> \n",
       "        <th class=\"col_heading level0 col1\" >Number of Purchases</th> \n",
       "        <th class=\"col_heading level0 col2\" >Number of unique Items</th> \n",
       "        <th class=\"col_heading level0 col3\" >Total Revenue</th> \n",
       "    </tr></thead> \n",
       "<tbody>    <tr> \n",
       "        <th id=\"T_ad7b791a_5efd_11ea_8426_a683e7299cdclevel0_row0\" class=\"row_heading level0 row0\" >0</th> \n",
       "        <td id=\"T_ad7b791a_5efd_11ea_8426_a683e7299cdcrow0_col0\" class=\"data row0 col0\" >$3.05</td> \n",
       "        <td id=\"T_ad7b791a_5efd_11ea_8426_a683e7299cdcrow0_col1\" class=\"data row0 col1\" >780</td> \n",
       "        <td id=\"T_ad7b791a_5efd_11ea_8426_a683e7299cdcrow0_col2\" class=\"data row0 col2\" >179</td> \n",
       "        <td id=\"T_ad7b791a_5efd_11ea_8426_a683e7299cdcrow0_col3\" class=\"data row0 col3\" >$2,379.77</td> \n",
       "    </tr></tbody> \n",
       "</table> "
      ],
      "text/plain": [
       "<pandas.io.formats.style.Styler at 0x11e6b3ef0>"
      ]
     },
     "execution_count": 29,
     "metadata": {},
     "output_type": "execute_result"
    }
   ],
   "source": [
    "num_unique = purchase_data['Item Name'].nunique() #finds number of unique items\n",
    "avg_price = purchase_data['Price'].mean() #finds the avg price of purchase\n",
    "num_purchases = len(purchase_data) #finds the number of purchases\n",
    "total_rev = purchase_data['Price'].sum() #calculates total revenue\n",
    "\n",
    "purchase_analysis_dict = [{\"Number of unique Items\": num_unique,   #creates a results dictionary\n",
    "                           \"Average Price\": avg_price,\n",
    "                           \"Number of Purchases\": num_purchases,\n",
    "                           \"Total Revenue\": total_rev}]\n",
    "\n",
    "purchase_analysis_df = pd.DataFrame(purchase_analysis_dict) #dataframe to display results\n",
    "purchase_analysis_df.style.format({\"Average Price\": \"${:,.2f}\",  #formats the results, done in most of the following cells\n",
    "                            \"Total Revenue\": \"${:,.2f}\"})"
   ]
  },
  {
   "cell_type": "markdown",
   "metadata": {},
   "source": [
    "## Gender Demographics"
   ]
  },
  {
   "cell_type": "code",
   "execution_count": 61,
   "metadata": {},
   "outputs": [
    {
     "data": {
      "text/html": [
       "<style  type=\"text/css\" >\n",
       "</style>  \n",
       "<table id=\"T_483b4cb4_5f00_11ea_92dc_a683e7299cdc\" > \n",
       "<thead>    <tr> \n",
       "        <th class=\"blank level0\" ></th> \n",
       "        <th class=\"col_heading level0 col0\" >Total Count</th> \n",
       "        <th class=\"col_heading level0 col1\" >Percentage of Players</th> \n",
       "    </tr></thead> \n",
       "<tbody>    <tr> \n",
       "        <th id=\"T_483b4cb4_5f00_11ea_92dc_a683e7299cdclevel0_row0\" class=\"row_heading level0 row0\" >Male</th> \n",
       "        <td id=\"T_483b4cb4_5f00_11ea_92dc_a683e7299cdcrow0_col0\" class=\"data row0 col0\" >484</td> \n",
       "        <td id=\"T_483b4cb4_5f00_11ea_92dc_a683e7299cdcrow0_col1\" class=\"data row0 col1\" >84.03%</td> \n",
       "    </tr>    <tr> \n",
       "        <th id=\"T_483b4cb4_5f00_11ea_92dc_a683e7299cdclevel0_row1\" class=\"row_heading level0 row1\" >Female</th> \n",
       "        <td id=\"T_483b4cb4_5f00_11ea_92dc_a683e7299cdcrow1_col0\" class=\"data row1 col0\" >81</td> \n",
       "        <td id=\"T_483b4cb4_5f00_11ea_92dc_a683e7299cdcrow1_col1\" class=\"data row1 col1\" >14.06%</td> \n",
       "    </tr>    <tr> \n",
       "        <th id=\"T_483b4cb4_5f00_11ea_92dc_a683e7299cdclevel0_row2\" class=\"row_heading level0 row2\" >Other / Non-Disclosed</th> \n",
       "        <td id=\"T_483b4cb4_5f00_11ea_92dc_a683e7299cdcrow2_col0\" class=\"data row2 col0\" >11</td> \n",
       "        <td id=\"T_483b4cb4_5f00_11ea_92dc_a683e7299cdcrow2_col1\" class=\"data row2 col1\" >1.91%</td> \n",
       "    </tr></tbody> \n",
       "</table> "
      ],
      "text/plain": [
       "<pandas.io.formats.style.Styler at 0x11e730f28>"
      ]
     },
     "execution_count": 61,
     "metadata": {},
     "output_type": "execute_result"
    }
   ],
   "source": [
    "genders = purchase_data.groupby(\"Gender\") #groups by the gender\n",
    "gender_count = genders.nunique()[\"SN\"] #then takes a count of each SN's gender\n",
    "gender_percent = (gender_count/total_players)*100 #finds the percentage of each gender compared to total\n",
    "\n",
    "gender_demo_df = pd.DataFrame({\"Total Count\": gender_count,\n",
    "                               \"Percentage of Players\": gender_percent}) #creates a dataframe to display results\n",
    "gender_demo_df.index.name = None\n",
    "gender_demo_df.sort_values(['Total Count'], ascending = False).style.format({\"Percentage of Players\": \"{:,.2f}%\"})"
   ]
  },
  {
   "cell_type": "markdown",
   "metadata": {},
   "source": [
    "## Purchasing Analysis (Gender)"
   ]
  },
  {
   "cell_type": "code",
   "execution_count": 65,
   "metadata": {},
   "outputs": [
    {
     "data": {
      "text/html": [
       "<style  type=\"text/css\" >\n",
       "</style>  \n",
       "<table id=\"T_9df6a8e2_5f00_11ea_9011_a683e7299cdc\" > \n",
       "<thead>    <tr> \n",
       "        <th class=\"blank level0\" ></th> \n",
       "        <th class=\"col_heading level0 col0\" >Purchase Count</th> \n",
       "        <th class=\"col_heading level0 col1\" >Average Purchase Price</th> \n",
       "        <th class=\"col_heading level0 col2\" >Total Purchase Value</th> \n",
       "        <th class=\"col_heading level0 col3\" >Avg Total Purchase per Person</th> \n",
       "    </tr>    <tr> \n",
       "        <th class=\"index_name level0\" >Gender</th> \n",
       "        <th class=\"blank\" ></th> \n",
       "        <th class=\"blank\" ></th> \n",
       "        <th class=\"blank\" ></th> \n",
       "        <th class=\"blank\" ></th> \n",
       "    </tr></thead> \n",
       "<tbody>    <tr> \n",
       "        <th id=\"T_9df6a8e2_5f00_11ea_9011_a683e7299cdclevel0_row0\" class=\"row_heading level0 row0\" >Female</th> \n",
       "        <td id=\"T_9df6a8e2_5f00_11ea_9011_a683e7299cdcrow0_col0\" class=\"data row0 col0\" >113</td> \n",
       "        <td id=\"T_9df6a8e2_5f00_11ea_9011_a683e7299cdcrow0_col1\" class=\"data row0 col1\" >$3.20</td> \n",
       "        <td id=\"T_9df6a8e2_5f00_11ea_9011_a683e7299cdcrow0_col2\" class=\"data row0 col2\" >$361.94</td> \n",
       "        <td id=\"T_9df6a8e2_5f00_11ea_9011_a683e7299cdcrow0_col3\" class=\"data row0 col3\" >$4.47</td> \n",
       "    </tr>    <tr> \n",
       "        <th id=\"T_9df6a8e2_5f00_11ea_9011_a683e7299cdclevel0_row1\" class=\"row_heading level0 row1\" >Male</th> \n",
       "        <td id=\"T_9df6a8e2_5f00_11ea_9011_a683e7299cdcrow1_col0\" class=\"data row1 col0\" >652</td> \n",
       "        <td id=\"T_9df6a8e2_5f00_11ea_9011_a683e7299cdcrow1_col1\" class=\"data row1 col1\" >$3.02</td> \n",
       "        <td id=\"T_9df6a8e2_5f00_11ea_9011_a683e7299cdcrow1_col2\" class=\"data row1 col2\" >$1,967.64</td> \n",
       "        <td id=\"T_9df6a8e2_5f00_11ea_9011_a683e7299cdcrow1_col3\" class=\"data row1 col3\" >$4.07</td> \n",
       "    </tr>    <tr> \n",
       "        <th id=\"T_9df6a8e2_5f00_11ea_9011_a683e7299cdclevel0_row2\" class=\"row_heading level0 row2\" >Other / Non-Disclosed</th> \n",
       "        <td id=\"T_9df6a8e2_5f00_11ea_9011_a683e7299cdcrow2_col0\" class=\"data row2 col0\" >15</td> \n",
       "        <td id=\"T_9df6a8e2_5f00_11ea_9011_a683e7299cdcrow2_col1\" class=\"data row2 col1\" >$3.35</td> \n",
       "        <td id=\"T_9df6a8e2_5f00_11ea_9011_a683e7299cdcrow2_col2\" class=\"data row2 col2\" >$50.19</td> \n",
       "        <td id=\"T_9df6a8e2_5f00_11ea_9011_a683e7299cdcrow2_col3\" class=\"data row2 col3\" >$4.56</td> \n",
       "    </tr></tbody> \n",
       "</table> "
      ],
      "text/plain": [
       "<pandas.io.formats.style.Styler at 0x11e743208>"
      ]
     },
     "execution_count": 65,
     "metadata": {},
     "output_type": "execute_result"
    }
   ],
   "source": [
    "purchase_count = genders[\"Purchase ID\"].count() #bins a count of total purchases based on gender\n",
    "avg_purchase_price = genders[\"Price\"].mean() #bins the avg price based on gendeer\n",
    "avg_purchase_total = genders[\"Price\"].sum() #bins the total revenue based on gender\n",
    "avg_purchase_pp = avg_purchase_total/gender_count #avg purchase by gender\n",
    "purchase_analysis_df = pd.DataFrame({\"Purchase Count\": purchase_count,\n",
    "                                     \"Average Purchase Price\": avg_purchase_price,\n",
    "                                     \"Total Purchase Value\": avg_purchase_total,\n",
    "                                     \"Avg Total Purchase per Person\": avg_purchase_pp}) #a dataframe to display results\n",
    "purchase_analysis_df.index.name = \"Gender\"\n",
    "purchase_analysis_df.style.format({\"Average Purchase Price\": \"${:,.2f}\",\n",
    "                                   \"Total Purchase Value\": \"${:,.2f}\",\n",
    "                                   \"Avg Total Purchase per Person\": \"${:,.2f}\"})"
   ]
  },
  {
   "cell_type": "code",
   "execution_count": 71,
   "metadata": {},
   "outputs": [
    {
     "data": {
      "text/html": [
       "<style  type=\"text/css\" >\n",
       "</style>  \n",
       "<table id=\"T_6818859e_5f01_11ea_92ef_a683e7299cdc\" > \n",
       "<thead>    <tr> \n",
       "        <th class=\"blank level0\" ></th> \n",
       "        <th class=\"col_heading level0 col0\" >Total Count</th> \n",
       "        <th class=\"col_heading level0 col1\" >Percentage of Players</th> \n",
       "    </tr>    <tr> \n",
       "        <th class=\"index_name level0\" >Age Group</th> \n",
       "        <th class=\"blank\" ></th> \n",
       "        <th class=\"blank\" ></th> \n",
       "    </tr></thead> \n",
       "<tbody>    <tr> \n",
       "        <th id=\"T_6818859e_5f01_11ea_92ef_a683e7299cdclevel0_row0\" class=\"row_heading level0 row0\" ><10</th> \n",
       "        <td id=\"T_6818859e_5f01_11ea_92ef_a683e7299cdcrow0_col0\" class=\"data row0 col0\" >17</td> \n",
       "        <td id=\"T_6818859e_5f01_11ea_92ef_a683e7299cdcrow0_col1\" class=\"data row0 col1\" >2.95%</td> \n",
       "    </tr>    <tr> \n",
       "        <th id=\"T_6818859e_5f01_11ea_92ef_a683e7299cdclevel0_row1\" class=\"row_heading level0 row1\" >10-14</th> \n",
       "        <td id=\"T_6818859e_5f01_11ea_92ef_a683e7299cdcrow1_col0\" class=\"data row1 col0\" >22</td> \n",
       "        <td id=\"T_6818859e_5f01_11ea_92ef_a683e7299cdcrow1_col1\" class=\"data row1 col1\" >3.82%</td> \n",
       "    </tr>    <tr> \n",
       "        <th id=\"T_6818859e_5f01_11ea_92ef_a683e7299cdclevel0_row2\" class=\"row_heading level0 row2\" >15-19</th> \n",
       "        <td id=\"T_6818859e_5f01_11ea_92ef_a683e7299cdcrow2_col0\" class=\"data row2 col0\" >107</td> \n",
       "        <td id=\"T_6818859e_5f01_11ea_92ef_a683e7299cdcrow2_col1\" class=\"data row2 col1\" >18.58%</td> \n",
       "    </tr>    <tr> \n",
       "        <th id=\"T_6818859e_5f01_11ea_92ef_a683e7299cdclevel0_row3\" class=\"row_heading level0 row3\" >20-24</th> \n",
       "        <td id=\"T_6818859e_5f01_11ea_92ef_a683e7299cdcrow3_col0\" class=\"data row3 col0\" >258</td> \n",
       "        <td id=\"T_6818859e_5f01_11ea_92ef_a683e7299cdcrow3_col1\" class=\"data row3 col1\" >44.79%</td> \n",
       "    </tr>    <tr> \n",
       "        <th id=\"T_6818859e_5f01_11ea_92ef_a683e7299cdclevel0_row4\" class=\"row_heading level0 row4\" >25-29</th> \n",
       "        <td id=\"T_6818859e_5f01_11ea_92ef_a683e7299cdcrow4_col0\" class=\"data row4 col0\" >77</td> \n",
       "        <td id=\"T_6818859e_5f01_11ea_92ef_a683e7299cdcrow4_col1\" class=\"data row4 col1\" >13.37%</td> \n",
       "    </tr>    <tr> \n",
       "        <th id=\"T_6818859e_5f01_11ea_92ef_a683e7299cdclevel0_row5\" class=\"row_heading level0 row5\" >30-34</th> \n",
       "        <td id=\"T_6818859e_5f01_11ea_92ef_a683e7299cdcrow5_col0\" class=\"data row5 col0\" >52</td> \n",
       "        <td id=\"T_6818859e_5f01_11ea_92ef_a683e7299cdcrow5_col1\" class=\"data row5 col1\" >9.03%</td> \n",
       "    </tr>    <tr> \n",
       "        <th id=\"T_6818859e_5f01_11ea_92ef_a683e7299cdclevel0_row6\" class=\"row_heading level0 row6\" >35-39</th> \n",
       "        <td id=\"T_6818859e_5f01_11ea_92ef_a683e7299cdcrow6_col0\" class=\"data row6 col0\" >31</td> \n",
       "        <td id=\"T_6818859e_5f01_11ea_92ef_a683e7299cdcrow6_col1\" class=\"data row6 col1\" >5.38%</td> \n",
       "    </tr>    <tr> \n",
       "        <th id=\"T_6818859e_5f01_11ea_92ef_a683e7299cdclevel0_row7\" class=\"row_heading level0 row7\" >40+</th> \n",
       "        <td id=\"T_6818859e_5f01_11ea_92ef_a683e7299cdcrow7_col0\" class=\"data row7 col0\" >12</td> \n",
       "        <td id=\"T_6818859e_5f01_11ea_92ef_a683e7299cdcrow7_col1\" class=\"data row7 col1\" >2.08%</td> \n",
       "    </tr></tbody> \n",
       "</table> "
      ],
      "text/plain": [
       "<pandas.io.formats.style.Styler at 0x11e763c18>"
      ]
     },
     "execution_count": 71,
     "metadata": {},
     "output_type": "execute_result"
    }
   ],
   "source": [
    "age_groups = [0, 9.90, 14.90, 19.90, 24.90, 29.90, 34.90, 39.90, 99999]\n",
    "groups = [\"<10\", \"10-14\", \"15-19\", \"20-24\", \"25-29\", \"30-34\", \"35-39\", \"40+\"] #creates age group bins to store the count of players and percentage\n",
    "purchase_data[\"Age Group\"] = pd.cut(purchase_data[\"Age\"], age_groups, labels = groups)\n",
    "group_ages = purchase_data.groupby(\"Age Group\")\n",
    "total_age_count = group_ages[\"SN\"].nunique()\n",
    "age_percent = (total_age_count/total_players)*100\n",
    "\n",
    "age_demo_df = pd.DataFrame({\"Total Count\": total_age_count,\n",
    "                            \"Percentage of Players\": age_percent}) #display results\n",
    "age_demo_df.style.format({\"Percentage of Players\": \"{:,.2f}%\"})"
   ]
  },
  {
   "cell_type": "markdown",
   "metadata": {},
   "source": [
    "## Purchasing Analysis (Age)"
   ]
  },
  {
   "cell_type": "code",
   "execution_count": 73,
   "metadata": {},
   "outputs": [
    {
     "data": {
      "text/html": [
       "<style  type=\"text/css\" >\n",
       "</style>  \n",
       "<table id=\"T_e9d0fa42_5f03_11ea_b1a5_a683e7299cdc\" > \n",
       "<thead>    <tr> \n",
       "        <th class=\"blank level0\" ></th> \n",
       "        <th class=\"col_heading level0 col0\" >Purchase Count</th> \n",
       "        <th class=\"col_heading level0 col1\" >Average Purchase Price</th> \n",
       "        <th class=\"col_heading level0 col2\" >Total Purchase Value</th> \n",
       "        <th class=\"col_heading level0 col3\" >Average Purchase Total per Person</th> \n",
       "    </tr></thead> \n",
       "<tbody>    <tr> \n",
       "        <th id=\"T_e9d0fa42_5f03_11ea_b1a5_a683e7299cdclevel0_row0\" class=\"row_heading level0 row0\" ><10</th> \n",
       "        <td id=\"T_e9d0fa42_5f03_11ea_b1a5_a683e7299cdcrow0_col0\" class=\"data row0 col0\" >23</td> \n",
       "        <td id=\"T_e9d0fa42_5f03_11ea_b1a5_a683e7299cdcrow0_col1\" class=\"data row0 col1\" >$3.35</td> \n",
       "        <td id=\"T_e9d0fa42_5f03_11ea_b1a5_a683e7299cdcrow0_col2\" class=\"data row0 col2\" >$77.13</td> \n",
       "        <td id=\"T_e9d0fa42_5f03_11ea_b1a5_a683e7299cdcrow0_col3\" class=\"data row0 col3\" >$4.54</td> \n",
       "    </tr>    <tr> \n",
       "        <th id=\"T_e9d0fa42_5f03_11ea_b1a5_a683e7299cdclevel0_row1\" class=\"row_heading level0 row1\" >10-14</th> \n",
       "        <td id=\"T_e9d0fa42_5f03_11ea_b1a5_a683e7299cdcrow1_col0\" class=\"data row1 col0\" >28</td> \n",
       "        <td id=\"T_e9d0fa42_5f03_11ea_b1a5_a683e7299cdcrow1_col1\" class=\"data row1 col1\" >$2.96</td> \n",
       "        <td id=\"T_e9d0fa42_5f03_11ea_b1a5_a683e7299cdcrow1_col2\" class=\"data row1 col2\" >$82.78</td> \n",
       "        <td id=\"T_e9d0fa42_5f03_11ea_b1a5_a683e7299cdcrow1_col3\" class=\"data row1 col3\" >$3.76</td> \n",
       "    </tr>    <tr> \n",
       "        <th id=\"T_e9d0fa42_5f03_11ea_b1a5_a683e7299cdclevel0_row2\" class=\"row_heading level0 row2\" >15-19</th> \n",
       "        <td id=\"T_e9d0fa42_5f03_11ea_b1a5_a683e7299cdcrow2_col0\" class=\"data row2 col0\" >136</td> \n",
       "        <td id=\"T_e9d0fa42_5f03_11ea_b1a5_a683e7299cdcrow2_col1\" class=\"data row2 col1\" >$3.04</td> \n",
       "        <td id=\"T_e9d0fa42_5f03_11ea_b1a5_a683e7299cdcrow2_col2\" class=\"data row2 col2\" >$412.89</td> \n",
       "        <td id=\"T_e9d0fa42_5f03_11ea_b1a5_a683e7299cdcrow2_col3\" class=\"data row2 col3\" >$3.86</td> \n",
       "    </tr>    <tr> \n",
       "        <th id=\"T_e9d0fa42_5f03_11ea_b1a5_a683e7299cdclevel0_row3\" class=\"row_heading level0 row3\" >20-24</th> \n",
       "        <td id=\"T_e9d0fa42_5f03_11ea_b1a5_a683e7299cdcrow3_col0\" class=\"data row3 col0\" >365</td> \n",
       "        <td id=\"T_e9d0fa42_5f03_11ea_b1a5_a683e7299cdcrow3_col1\" class=\"data row3 col1\" >$3.05</td> \n",
       "        <td id=\"T_e9d0fa42_5f03_11ea_b1a5_a683e7299cdcrow3_col2\" class=\"data row3 col2\" >$1,114.06</td> \n",
       "        <td id=\"T_e9d0fa42_5f03_11ea_b1a5_a683e7299cdcrow3_col3\" class=\"data row3 col3\" >$4.32</td> \n",
       "    </tr>    <tr> \n",
       "        <th id=\"T_e9d0fa42_5f03_11ea_b1a5_a683e7299cdclevel0_row4\" class=\"row_heading level0 row4\" >25-29</th> \n",
       "        <td id=\"T_e9d0fa42_5f03_11ea_b1a5_a683e7299cdcrow4_col0\" class=\"data row4 col0\" >101</td> \n",
       "        <td id=\"T_e9d0fa42_5f03_11ea_b1a5_a683e7299cdcrow4_col1\" class=\"data row4 col1\" >$2.90</td> \n",
       "        <td id=\"T_e9d0fa42_5f03_11ea_b1a5_a683e7299cdcrow4_col2\" class=\"data row4 col2\" >$293.00</td> \n",
       "        <td id=\"T_e9d0fa42_5f03_11ea_b1a5_a683e7299cdcrow4_col3\" class=\"data row4 col3\" >$3.81</td> \n",
       "    </tr>    <tr> \n",
       "        <th id=\"T_e9d0fa42_5f03_11ea_b1a5_a683e7299cdclevel0_row5\" class=\"row_heading level0 row5\" >30-34</th> \n",
       "        <td id=\"T_e9d0fa42_5f03_11ea_b1a5_a683e7299cdcrow5_col0\" class=\"data row5 col0\" >73</td> \n",
       "        <td id=\"T_e9d0fa42_5f03_11ea_b1a5_a683e7299cdcrow5_col1\" class=\"data row5 col1\" >$2.93</td> \n",
       "        <td id=\"T_e9d0fa42_5f03_11ea_b1a5_a683e7299cdcrow5_col2\" class=\"data row5 col2\" >$214.00</td> \n",
       "        <td id=\"T_e9d0fa42_5f03_11ea_b1a5_a683e7299cdcrow5_col3\" class=\"data row5 col3\" >$4.12</td> \n",
       "    </tr>    <tr> \n",
       "        <th id=\"T_e9d0fa42_5f03_11ea_b1a5_a683e7299cdclevel0_row6\" class=\"row_heading level0 row6\" >35-39</th> \n",
       "        <td id=\"T_e9d0fa42_5f03_11ea_b1a5_a683e7299cdcrow6_col0\" class=\"data row6 col0\" >41</td> \n",
       "        <td id=\"T_e9d0fa42_5f03_11ea_b1a5_a683e7299cdcrow6_col1\" class=\"data row6 col1\" >$3.60</td> \n",
       "        <td id=\"T_e9d0fa42_5f03_11ea_b1a5_a683e7299cdcrow6_col2\" class=\"data row6 col2\" >$147.67</td> \n",
       "        <td id=\"T_e9d0fa42_5f03_11ea_b1a5_a683e7299cdcrow6_col3\" class=\"data row6 col3\" >$4.76</td> \n",
       "    </tr>    <tr> \n",
       "        <th id=\"T_e9d0fa42_5f03_11ea_b1a5_a683e7299cdclevel0_row7\" class=\"row_heading level0 row7\" >40+</th> \n",
       "        <td id=\"T_e9d0fa42_5f03_11ea_b1a5_a683e7299cdcrow7_col0\" class=\"data row7 col0\" >13</td> \n",
       "        <td id=\"T_e9d0fa42_5f03_11ea_b1a5_a683e7299cdcrow7_col1\" class=\"data row7 col1\" >$2.94</td> \n",
       "        <td id=\"T_e9d0fa42_5f03_11ea_b1a5_a683e7299cdcrow7_col2\" class=\"data row7 col2\" >$38.24</td> \n",
       "        <td id=\"T_e9d0fa42_5f03_11ea_b1a5_a683e7299cdcrow7_col3\" class=\"data row7 col3\" >$3.19</td> \n",
       "    </tr></tbody> \n",
       "</table> "
      ],
      "text/plain": [
       "<pandas.io.formats.style.Styler at 0x11e743f28>"
      ]
     },
     "execution_count": 73,
     "metadata": {},
     "output_type": "execute_result"
    }
   ],
   "source": [
    "purch_age_count = group_ages[\"Purchase ID\"].count() #uses the age group bins to find the total count, avg purchase price, total rev, and avg purch per person\n",
    "avg_purch_price = group_ages[\"Price\"].mean()\n",
    "total_purch_value = group_ages[\"Price\"].sum()\n",
    "avg_purch_pp = total_purch_value/total_age_count\n",
    "\n",
    "age_purch_df = pd.DataFrame({\"Purchase Count\": purch_age_count,\n",
    "                             \"Average Purchase Price\": avg_purch_price,\n",
    "                             \"Total Purchase Value\": total_purch_value,\n",
    "                             \"Average Purchase Total per Person\": avg_purch_pp}) #displays results\n",
    "age_purch_df.index.name = None\n",
    "age_purch_df.style.format({\"Average Purchase Price\":\"${:,.2f}\",\n",
    "                           \"Total Purchase Value\":\"${:,.2f}\",\n",
    "                           \"Average Purchase Total per Person\":\"${:,.2f}\"})"
   ]
  },
  {
   "cell_type": "markdown",
   "metadata": {},
   "source": [
    "## Top Spenders"
   ]
  },
  {
   "cell_type": "code",
   "execution_count": 74,
   "metadata": {},
   "outputs": [
    {
     "data": {
      "text/html": [
       "<style  type=\"text/css\" >\n",
       "</style>  \n",
       "<table id=\"T_97bb0186_5f04_11ea_80a4_a683e7299cdc\" > \n",
       "<thead>    <tr> \n",
       "        <th class=\"blank level0\" ></th> \n",
       "        <th class=\"col_heading level0 col0\" >Purchase Count</th> \n",
       "        <th class=\"col_heading level0 col1\" >Average Purchase Price</th> \n",
       "        <th class=\"col_heading level0 col2\" >Total Purchase Value</th> \n",
       "    </tr>    <tr> \n",
       "        <th class=\"index_name level0\" >SN</th> \n",
       "        <th class=\"blank\" ></th> \n",
       "        <th class=\"blank\" ></th> \n",
       "        <th class=\"blank\" ></th> \n",
       "    </tr></thead> \n",
       "<tbody>    <tr> \n",
       "        <th id=\"T_97bb0186_5f04_11ea_80a4_a683e7299cdclevel0_row0\" class=\"row_heading level0 row0\" >Lisosia93</th> \n",
       "        <td id=\"T_97bb0186_5f04_11ea_80a4_a683e7299cdcrow0_col0\" class=\"data row0 col0\" >5</td> \n",
       "        <td id=\"T_97bb0186_5f04_11ea_80a4_a683e7299cdcrow0_col1\" class=\"data row0 col1\" >$3.79</td> \n",
       "        <td id=\"T_97bb0186_5f04_11ea_80a4_a683e7299cdcrow0_col2\" class=\"data row0 col2\" >$18.96</td> \n",
       "    </tr>    <tr> \n",
       "        <th id=\"T_97bb0186_5f04_11ea_80a4_a683e7299cdclevel0_row1\" class=\"row_heading level0 row1\" >Idastidru52</th> \n",
       "        <td id=\"T_97bb0186_5f04_11ea_80a4_a683e7299cdcrow1_col0\" class=\"data row1 col0\" >4</td> \n",
       "        <td id=\"T_97bb0186_5f04_11ea_80a4_a683e7299cdcrow1_col1\" class=\"data row1 col1\" >$3.86</td> \n",
       "        <td id=\"T_97bb0186_5f04_11ea_80a4_a683e7299cdcrow1_col2\" class=\"data row1 col2\" >$15.45</td> \n",
       "    </tr>    <tr> \n",
       "        <th id=\"T_97bb0186_5f04_11ea_80a4_a683e7299cdclevel0_row2\" class=\"row_heading level0 row2\" >Chamjask73</th> \n",
       "        <td id=\"T_97bb0186_5f04_11ea_80a4_a683e7299cdcrow2_col0\" class=\"data row2 col0\" >3</td> \n",
       "        <td id=\"T_97bb0186_5f04_11ea_80a4_a683e7299cdcrow2_col1\" class=\"data row2 col1\" >$4.61</td> \n",
       "        <td id=\"T_97bb0186_5f04_11ea_80a4_a683e7299cdcrow2_col2\" class=\"data row2 col2\" >$13.83</td> \n",
       "    </tr>    <tr> \n",
       "        <th id=\"T_97bb0186_5f04_11ea_80a4_a683e7299cdclevel0_row3\" class=\"row_heading level0 row3\" >Iral74</th> \n",
       "        <td id=\"T_97bb0186_5f04_11ea_80a4_a683e7299cdcrow3_col0\" class=\"data row3 col0\" >4</td> \n",
       "        <td id=\"T_97bb0186_5f04_11ea_80a4_a683e7299cdcrow3_col1\" class=\"data row3 col1\" >$3.40</td> \n",
       "        <td id=\"T_97bb0186_5f04_11ea_80a4_a683e7299cdcrow3_col2\" class=\"data row3 col2\" >$13.62</td> \n",
       "    </tr>    <tr> \n",
       "        <th id=\"T_97bb0186_5f04_11ea_80a4_a683e7299cdclevel0_row4\" class=\"row_heading level0 row4\" >Iskadarya95</th> \n",
       "        <td id=\"T_97bb0186_5f04_11ea_80a4_a683e7299cdcrow4_col0\" class=\"data row4 col0\" >3</td> \n",
       "        <td id=\"T_97bb0186_5f04_11ea_80a4_a683e7299cdcrow4_col1\" class=\"data row4 col1\" >$4.37</td> \n",
       "        <td id=\"T_97bb0186_5f04_11ea_80a4_a683e7299cdcrow4_col2\" class=\"data row4 col2\" >$13.10</td> \n",
       "    </tr></tbody> \n",
       "</table> "
      ],
      "text/plain": [
       "<pandas.io.formats.style.Styler at 0x11e755908>"
      ]
     },
     "execution_count": 74,
     "metadata": {},
     "output_type": "execute_result"
    }
   ],
   "source": [
    "spenders = purchase_data.groupby(\"SN\") #groups by SN\n",
    "\n",
    "spender_purch_count = spenders[\"Purchase ID\"].count() #bins total purchase count, avg purchase, and total spending by each sn\n",
    "spenders_avg_purch_price = spenders[\"Price\"].mean()\n",
    "spenders_total_purch = spenders[\"Price\"].sum()\n",
    "\n",
    "spenders_df = pd.DataFrame({\"Purchase Count\": spender_purch_count,\n",
    "                            \"Average Purchase Price\": spenders_avg_purch_price,\n",
    "                            \"Total Purchase Value\": spenders_total_purch}) #display results\n",
    "\n",
    "top_spenders_df = spenders_df.sort_values([\"Total Purchase Value\"], ascending = False).head() #finds the top 5 spenders based on total purchases\n",
    "top_spenders_df.style.format({\"Average Purchase Total\":\"${:,.2f}\",\n",
    "                              \"Average Purchase Price\":\"${:,.2f}\", \n",
    "                              \"Total Purchase Value\":\"${:,.2f}\"})\n"
   ]
  },
  {
   "cell_type": "markdown",
   "metadata": {},
   "source": [
    "## Most Popular Items"
   ]
  },
  {
   "cell_type": "code",
   "execution_count": 76,
   "metadata": {},
   "outputs": [
    {
     "data": {
      "text/html": [
       "<style  type=\"text/css\" >\n",
       "</style>  \n",
       "<table id=\"T_b01386e2_5f05_11ea_b018_a683e7299cdc\" > \n",
       "<thead>    <tr> \n",
       "        <th class=\"blank\" ></th> \n",
       "        <th class=\"blank level0\" ></th> \n",
       "        <th class=\"col_heading level0 col0\" >Purchase Count</th> \n",
       "        <th class=\"col_heading level0 col1\" >Item Price</th> \n",
       "        <th class=\"col_heading level0 col2\" >Total Purchase Value</th> \n",
       "    </tr>    <tr> \n",
       "        <th class=\"index_name level0\" >Item ID</th> \n",
       "        <th class=\"index_name level1\" >Item Name</th> \n",
       "        <th class=\"blank\" ></th> \n",
       "        <th class=\"blank\" ></th> \n",
       "        <th class=\"blank\" ></th> \n",
       "    </tr></thead> \n",
       "<tbody>    <tr> \n",
       "        <th id=\"T_b01386e2_5f05_11ea_b018_a683e7299cdclevel0_row0\" class=\"row_heading level0 row0\" >178</th> \n",
       "        <th id=\"T_b01386e2_5f05_11ea_b018_a683e7299cdclevel1_row0\" class=\"row_heading level1 row0\" >Oathbreaker, Last Hope of the Breaking Storm</th> \n",
       "        <td id=\"T_b01386e2_5f05_11ea_b018_a683e7299cdcrow0_col0\" class=\"data row0 col0\" >12</td> \n",
       "        <td id=\"T_b01386e2_5f05_11ea_b018_a683e7299cdcrow0_col1\" class=\"data row0 col1\" >$4.23</td> \n",
       "        <td id=\"T_b01386e2_5f05_11ea_b018_a683e7299cdcrow0_col2\" class=\"data row0 col2\" >$50.76</td> \n",
       "    </tr>    <tr> \n",
       "        <th id=\"T_b01386e2_5f05_11ea_b018_a683e7299cdclevel0_row1\" class=\"row_heading level0 row1\" >145</th> \n",
       "        <th id=\"T_b01386e2_5f05_11ea_b018_a683e7299cdclevel1_row1\" class=\"row_heading level1 row1\" >Fiery Glass Crusader</th> \n",
       "        <td id=\"T_b01386e2_5f05_11ea_b018_a683e7299cdcrow1_col0\" class=\"data row1 col0\" >9</td> \n",
       "        <td id=\"T_b01386e2_5f05_11ea_b018_a683e7299cdcrow1_col1\" class=\"data row1 col1\" >$4.58</td> \n",
       "        <td id=\"T_b01386e2_5f05_11ea_b018_a683e7299cdcrow1_col2\" class=\"data row1 col2\" >$41.22</td> \n",
       "    </tr>    <tr> \n",
       "        <th id=\"T_b01386e2_5f05_11ea_b018_a683e7299cdclevel0_row2\" class=\"row_heading level0 row2\" >108</th> \n",
       "        <th id=\"T_b01386e2_5f05_11ea_b018_a683e7299cdclevel1_row2\" class=\"row_heading level1 row2\" >Extraction, Quickblade Of Trembling Hands</th> \n",
       "        <td id=\"T_b01386e2_5f05_11ea_b018_a683e7299cdcrow2_col0\" class=\"data row2 col0\" >9</td> \n",
       "        <td id=\"T_b01386e2_5f05_11ea_b018_a683e7299cdcrow2_col1\" class=\"data row2 col1\" >$3.53</td> \n",
       "        <td id=\"T_b01386e2_5f05_11ea_b018_a683e7299cdcrow2_col2\" class=\"data row2 col2\" >$31.77</td> \n",
       "    </tr>    <tr> \n",
       "        <th id=\"T_b01386e2_5f05_11ea_b018_a683e7299cdclevel0_row3\" class=\"row_heading level0 row3\" >82</th> \n",
       "        <th id=\"T_b01386e2_5f05_11ea_b018_a683e7299cdclevel1_row3\" class=\"row_heading level1 row3\" >Nirvana</th> \n",
       "        <td id=\"T_b01386e2_5f05_11ea_b018_a683e7299cdcrow3_col0\" class=\"data row3 col0\" >9</td> \n",
       "        <td id=\"T_b01386e2_5f05_11ea_b018_a683e7299cdcrow3_col1\" class=\"data row3 col1\" >$4.90</td> \n",
       "        <td id=\"T_b01386e2_5f05_11ea_b018_a683e7299cdcrow3_col2\" class=\"data row3 col2\" >$44.10</td> \n",
       "    </tr>    <tr> \n",
       "        <th id=\"T_b01386e2_5f05_11ea_b018_a683e7299cdclevel0_row4\" class=\"row_heading level0 row4\" >19</th> \n",
       "        <th id=\"T_b01386e2_5f05_11ea_b018_a683e7299cdclevel1_row4\" class=\"row_heading level1 row4\" >Pursuit, Cudgel of Necromancy</th> \n",
       "        <td id=\"T_b01386e2_5f05_11ea_b018_a683e7299cdcrow4_col0\" class=\"data row4 col0\" >8</td> \n",
       "        <td id=\"T_b01386e2_5f05_11ea_b018_a683e7299cdcrow4_col1\" class=\"data row4 col1\" >$1.02</td> \n",
       "        <td id=\"T_b01386e2_5f05_11ea_b018_a683e7299cdcrow4_col2\" class=\"data row4 col2\" >$8.16</td> \n",
       "    </tr></tbody> \n",
       "</table> "
      ],
      "text/plain": [
       "<pandas.io.formats.style.Styler at 0x11e730d30>"
      ]
     },
     "execution_count": 76,
     "metadata": {},
     "output_type": "execute_result"
    }
   ],
   "source": [
    "items = purchase_data[[\"Item ID\", \"Item Name\", \"Price\"]]\n",
    "\n",
    "item_grouped = items.groupby([\"Item ID\", \"Item Name\"]) #groups data by the item & id\n",
    "item_purch_count = item_grouped[\"Price\"].count()\n",
    "purch_value = item_grouped[\"Price\"].sum()\n",
    "item_price = purch_value/item_purch_count\n",
    "pop_items_df = pd.DataFrame({\"Purchase Count\": item_purch_count,\n",
    "                             \"Item Price\": item_price,\n",
    "                             \"Total Purchase Value\": purch_value}) #display results\n",
    "most_pop_items_df = pop_items_df.sort_values([\"Purchase Count\"], ascending = False).head() #finds most purchased items\n",
    "most_pop_items_df.style.format({\"Item Price\":\"${:,.2f}\",\n",
    "                                \"Total Purchase Value\":\"${:,.2f}\"})"
   ]
  },
  {
   "cell_type": "markdown",
   "metadata": {},
   "source": [
    "## Most Profitable Items"
   ]
  },
  {
   "cell_type": "code",
   "execution_count": 78,
   "metadata": {},
   "outputs": [
    {
     "data": {
      "text/html": [
       "<style  type=\"text/css\" >\n",
       "</style>  \n",
       "<table id=\"T_fd217ca8_5f05_11ea_be20_a683e7299cdc\" > \n",
       "<thead>    <tr> \n",
       "        <th class=\"blank\" ></th> \n",
       "        <th class=\"blank level0\" ></th> \n",
       "        <th class=\"col_heading level0 col0\" >Purchase Count</th> \n",
       "        <th class=\"col_heading level0 col1\" >Item Price</th> \n",
       "        <th class=\"col_heading level0 col2\" >Total Purchase Value</th> \n",
       "    </tr>    <tr> \n",
       "        <th class=\"index_name level0\" >Item ID</th> \n",
       "        <th class=\"index_name level1\" >Item Name</th> \n",
       "        <th class=\"blank\" ></th> \n",
       "        <th class=\"blank\" ></th> \n",
       "        <th class=\"blank\" ></th> \n",
       "    </tr></thead> \n",
       "<tbody>    <tr> \n",
       "        <th id=\"T_fd217ca8_5f05_11ea_be20_a683e7299cdclevel0_row0\" class=\"row_heading level0 row0\" >178</th> \n",
       "        <th id=\"T_fd217ca8_5f05_11ea_be20_a683e7299cdclevel1_row0\" class=\"row_heading level1 row0\" >Oathbreaker, Last Hope of the Breaking Storm</th> \n",
       "        <td id=\"T_fd217ca8_5f05_11ea_be20_a683e7299cdcrow0_col0\" class=\"data row0 col0\" >12</td> \n",
       "        <td id=\"T_fd217ca8_5f05_11ea_be20_a683e7299cdcrow0_col1\" class=\"data row0 col1\" >$4.23</td> \n",
       "        <td id=\"T_fd217ca8_5f05_11ea_be20_a683e7299cdcrow0_col2\" class=\"data row0 col2\" >$50.76</td> \n",
       "    </tr>    <tr> \n",
       "        <th id=\"T_fd217ca8_5f05_11ea_be20_a683e7299cdclevel0_row1\" class=\"row_heading level0 row1\" >82</th> \n",
       "        <th id=\"T_fd217ca8_5f05_11ea_be20_a683e7299cdclevel1_row1\" class=\"row_heading level1 row1\" >Nirvana</th> \n",
       "        <td id=\"T_fd217ca8_5f05_11ea_be20_a683e7299cdcrow1_col0\" class=\"data row1 col0\" >9</td> \n",
       "        <td id=\"T_fd217ca8_5f05_11ea_be20_a683e7299cdcrow1_col1\" class=\"data row1 col1\" >$4.90</td> \n",
       "        <td id=\"T_fd217ca8_5f05_11ea_be20_a683e7299cdcrow1_col2\" class=\"data row1 col2\" >$44.10</td> \n",
       "    </tr>    <tr> \n",
       "        <th id=\"T_fd217ca8_5f05_11ea_be20_a683e7299cdclevel0_row2\" class=\"row_heading level0 row2\" >145</th> \n",
       "        <th id=\"T_fd217ca8_5f05_11ea_be20_a683e7299cdclevel1_row2\" class=\"row_heading level1 row2\" >Fiery Glass Crusader</th> \n",
       "        <td id=\"T_fd217ca8_5f05_11ea_be20_a683e7299cdcrow2_col0\" class=\"data row2 col0\" >9</td> \n",
       "        <td id=\"T_fd217ca8_5f05_11ea_be20_a683e7299cdcrow2_col1\" class=\"data row2 col1\" >$4.58</td> \n",
       "        <td id=\"T_fd217ca8_5f05_11ea_be20_a683e7299cdcrow2_col2\" class=\"data row2 col2\" >$41.22</td> \n",
       "    </tr>    <tr> \n",
       "        <th id=\"T_fd217ca8_5f05_11ea_be20_a683e7299cdclevel0_row3\" class=\"row_heading level0 row3\" >92</th> \n",
       "        <th id=\"T_fd217ca8_5f05_11ea_be20_a683e7299cdclevel1_row3\" class=\"row_heading level1 row3\" >Final Critic</th> \n",
       "        <td id=\"T_fd217ca8_5f05_11ea_be20_a683e7299cdcrow3_col0\" class=\"data row3 col0\" >8</td> \n",
       "        <td id=\"T_fd217ca8_5f05_11ea_be20_a683e7299cdcrow3_col1\" class=\"data row3 col1\" >$4.88</td> \n",
       "        <td id=\"T_fd217ca8_5f05_11ea_be20_a683e7299cdcrow3_col2\" class=\"data row3 col2\" >$39.04</td> \n",
       "    </tr>    <tr> \n",
       "        <th id=\"T_fd217ca8_5f05_11ea_be20_a683e7299cdclevel0_row4\" class=\"row_heading level0 row4\" >103</th> \n",
       "        <th id=\"T_fd217ca8_5f05_11ea_be20_a683e7299cdclevel1_row4\" class=\"row_heading level1 row4\" >Singed Scalpel</th> \n",
       "        <td id=\"T_fd217ca8_5f05_11ea_be20_a683e7299cdcrow4_col0\" class=\"data row4 col0\" >8</td> \n",
       "        <td id=\"T_fd217ca8_5f05_11ea_be20_a683e7299cdcrow4_col1\" class=\"data row4 col1\" >$4.35</td> \n",
       "        <td id=\"T_fd217ca8_5f05_11ea_be20_a683e7299cdcrow4_col2\" class=\"data row4 col2\" >$34.80</td> \n",
       "    </tr></tbody> \n",
       "</table> "
      ],
      "text/plain": [
       "<pandas.io.formats.style.Styler at 0x11e763860>"
      ]
     },
     "execution_count": 78,
     "metadata": {},
     "output_type": "execute_result"
    }
   ],
   "source": [
    "most_pop_items_df = pop_items_df.sort_values([\"Total Purchase Value\"], ascending = False).head() #displays most profited items\n",
    "most_pop_items_df.style.format({\"Item Price\":\"${:,.2f}\",\n",
    "                                \"Total Purchase Value\":\"${:,.2f}\"})"
   ]
  }
 ],
 "metadata": {
  "kernelspec": {
   "display_name": "Python 3",
   "language": "python",
   "name": "python3"
  },
  "language_info": {
   "codemirror_mode": {
    "name": "ipython",
    "version": 3
   },
   "file_extension": ".py",
   "mimetype": "text/x-python",
   "name": "python",
   "nbconvert_exporter": "python",
   "pygments_lexer": "ipython3",
   "version": "3.6.8"
  }
 },
 "nbformat": 4,
 "nbformat_minor": 2
}
